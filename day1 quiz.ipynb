{
 "cells": [
  {
   "cell_type": "code",
   "execution_count": 3,
   "metadata": {
    "scrolled": true
   },
   "outputs": [
    {
     "name": "stdout",
     "output_type": "stream",
     "text": [
      "Hello 1\n",
      "Hello 2\n",
      "Hello 3\n",
      "Hello 4\n",
      "Hello 5\n",
      "Hello 6\n",
      "Hello 7\n",
      "Hello 8\n",
      "Hello 9\n",
      "Hello 10\n"
     ]
    }
   ],
   "source": [
    "#quiz 1\n",
    "for i in range(1,11):\n",
    "    print('Hello', i)    "
   ]
  },
  {
   "cell_type": "code",
   "execution_count": 38,
   "metadata": {},
   "outputs": [
    {
     "name": "stdout",
     "output_type": "stream",
     "text": [
      "Hello 1\n",
      "Hello 2\n",
      "Hello 3\n",
      "Hello 4\n",
      "Hello 5\n",
      "Hello 6\n",
      "Hello 7\n",
      "Hello 8\n",
      "Hello 9\n",
      "Hello 10\n"
     ]
    }
   ],
   "source": [
    "#quiz 2 \n",
    "import time\n",
    "for i in range(1,11):\n",
    "    print('Hello', i)\n",
    "    time.sleep(1)"
   ]
  },
  {
   "cell_type": "code",
   "execution_count": 63,
   "metadata": {},
   "outputs": [
    {
     "name": "stdout",
     "output_type": "stream",
     "text": [
      "주사위 번호 : 1\n",
      "*\n"
     ]
    }
   ],
   "source": [
    "#quiz 3\n",
    "import numpy as np\n",
    "from IPython.display import clear_output\n",
    "for i in range(10):\n",
    "    a = np.random.randint(1,7)\n",
    "    print('주사위 번호 :', a)\n",
    "    for i in range(a):\n",
    "        print('*', end ='')\n",
    "    print()\n",
    "    time.sleep(1)\n",
    "    clear_output(wait = True)"
   ]
  },
  {
   "cell_type": "code",
   "execution_count": 36,
   "metadata": {},
   "outputs": [
    {
     "name": "stdout",
     "output_type": "stream",
     "text": [
      "{'사과': 2, '포도': 2, '레몬': 1}\n"
     ]
    }
   ],
   "source": [
    "#quiz 4\n",
    "training_data = [['연두', 3, '사과'],\n",
    "                 ['노랑', 3, '사과'],\n",
    "                 ['빨강', 2, '포도'],\n",
    "                 ['빨강', 1, '포도'],\n",
    "                 ['노랑', 3, '레몬']]\n",
    "def fruit_counts(data):\n",
    "    counts = {}\n",
    "    for row in data:\n",
    "        label = row[-1]\n",
    "        if label not in counts:\n",
    "            counts[label] = 0\n",
    "        counts[label] += 1\n",
    "    return counts\n",
    "result = fruit_counts(training_data)\n",
    "print(result)"
   ]
  },
  {
   "cell_type": "code",
   "execution_count": 37,
   "metadata": {},
   "outputs": [
    {
     "name": "stdout",
     "output_type": "stream",
     "text": [
      "{'연두': 1, '노랑': 2, '빨강': 2}\n"
     ]
    }
   ],
   "source": [
    "#quiz 5\n",
    "training_data = [['연두', 3, '사과'],\n",
    "                 ['노랑', 3, '사과'],\n",
    "                 ['빨강', 2, '포도'],\n",
    "                 ['빨강', 1, '포도'],\n",
    "                 ['노랑', 3, '레몬']]\n",
    "def fruit_counts(data):\n",
    "    counts = {}\n",
    "    for row in data:\n",
    "        color = row[0]\n",
    "        if color not in counts:\n",
    "            counts[color] = 0\n",
    "        counts[color] += 1\n",
    "    return counts\n",
    "result = fruit_counts(training_data)\n",
    "print(result)\n"
   ]
  }
 ],
 "metadata": {
  "kernelspec": {
   "display_name": "Python 3",
   "language": "python",
   "name": "python3"
  },
  "language_info": {
   "codemirror_mode": {
    "name": "ipython",
    "version": 3
   },
   "file_extension": ".py",
   "mimetype": "text/x-python",
   "name": "python",
   "nbconvert_exporter": "python",
   "pygments_lexer": "ipython3",
   "version": "3.7.6"
  }
 },
 "nbformat": 4,
 "nbformat_minor": 4
}
