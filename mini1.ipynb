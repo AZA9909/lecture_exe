{
 "cells": [
  {
   "cell_type": "code",
   "execution_count": 69,
   "metadata": {
    "scrolled": false
   },
   "outputs": [
    {
     "data": {
      "text/html": [
       "<div>\n",
       "<style scoped>\n",
       "    .dataframe tbody tr th:only-of-type {\n",
       "        vertical-align: middle;\n",
       "    }\n",
       "\n",
       "    .dataframe tbody tr th {\n",
       "        vertical-align: top;\n",
       "    }\n",
       "\n",
       "    .dataframe thead th {\n",
       "        text-align: right;\n",
       "    }\n",
       "</style>\n",
       "<table border=\"1\" class=\"dataframe\">\n",
       "  <thead>\n",
       "    <tr style=\"text-align: right;\">\n",
       "      <th></th>\n",
       "      <th>년월일</th>\n",
       "      <th>호기</th>\n",
       "      <th>총량(kw)</th>\n",
       "      <th>평균(kw)</th>\n",
       "      <th>최대(kw)</th>\n",
       "      <th>최소(kw)</th>\n",
       "      <th>최대(시간별, kw)</th>\n",
       "      <th>최소(시간별, kw)</th>\n",
       "      <th>1</th>\n",
       "      <th>2</th>\n",
       "      <th>...</th>\n",
       "      <th>15</th>\n",
       "      <th>16</th>\n",
       "      <th>17</th>\n",
       "      <th>18</th>\n",
       "      <th>19</th>\n",
       "      <th>20</th>\n",
       "      <th>21</th>\n",
       "      <th>22</th>\n",
       "      <th>23</th>\n",
       "      <th>24</th>\n",
       "    </tr>\n",
       "  </thead>\n",
       "  <tbody>\n",
       "    <tr>\n",
       "      <th>694</th>\n",
       "      <td>2019-11-26</td>\n",
       "      <td>1</td>\n",
       "      <td>427.92</td>\n",
       "      <td>18</td>\n",
       "      <td>76.08</td>\n",
       "      <td>0</td>\n",
       "      <td>76.08</td>\n",
       "      <td>0.40</td>\n",
       "      <td>0</td>\n",
       "      <td>0</td>\n",
       "      <td>...</td>\n",
       "      <td>50.48</td>\n",
       "      <td>28.64</td>\n",
       "      <td>8.24</td>\n",
       "      <td>0.00</td>\n",
       "      <td>0.0</td>\n",
       "      <td>0.0</td>\n",
       "      <td>0</td>\n",
       "      <td>0</td>\n",
       "      <td>0</td>\n",
       "      <td>0</td>\n",
       "    </tr>\n",
       "    <tr>\n",
       "      <th>695</th>\n",
       "      <td>2019-11-27</td>\n",
       "      <td>1</td>\n",
       "      <td>69.12</td>\n",
       "      <td>3</td>\n",
       "      <td>14.72</td>\n",
       "      <td>0</td>\n",
       "      <td>14.72</td>\n",
       "      <td>0.64</td>\n",
       "      <td>0</td>\n",
       "      <td>0</td>\n",
       "      <td>...</td>\n",
       "      <td>6.40</td>\n",
       "      <td>4.24</td>\n",
       "      <td>0.64</td>\n",
       "      <td>0.00</td>\n",
       "      <td>0.0</td>\n",
       "      <td>0.0</td>\n",
       "      <td>0</td>\n",
       "      <td>0</td>\n",
       "      <td>0</td>\n",
       "      <td>0</td>\n",
       "    </tr>\n",
       "    <tr>\n",
       "      <th>696</th>\n",
       "      <td>2019-11-28</td>\n",
       "      <td>1</td>\n",
       "      <td>187.52</td>\n",
       "      <td>8</td>\n",
       "      <td>41.12</td>\n",
       "      <td>0</td>\n",
       "      <td>41.12</td>\n",
       "      <td>0.56</td>\n",
       "      <td>0</td>\n",
       "      <td>0</td>\n",
       "      <td>...</td>\n",
       "      <td>19.92</td>\n",
       "      <td>14.00</td>\n",
       "      <td>5.52</td>\n",
       "      <td>0.00</td>\n",
       "      <td>0.0</td>\n",
       "      <td>0.0</td>\n",
       "      <td>0</td>\n",
       "      <td>0</td>\n",
       "      <td>0</td>\n",
       "      <td>0</td>\n",
       "    </tr>\n",
       "    <tr>\n",
       "      <th>697</th>\n",
       "      <td>2019-11-29</td>\n",
       "      <td>1</td>\n",
       "      <td>464.88</td>\n",
       "      <td>19</td>\n",
       "      <td>80.32</td>\n",
       "      <td>0</td>\n",
       "      <td>80.32</td>\n",
       "      <td>0.08</td>\n",
       "      <td>0</td>\n",
       "      <td>0</td>\n",
       "      <td>...</td>\n",
       "      <td>54.88</td>\n",
       "      <td>34.40</td>\n",
       "      <td>9.04</td>\n",
       "      <td>0.08</td>\n",
       "      <td>0.0</td>\n",
       "      <td>0.0</td>\n",
       "      <td>0</td>\n",
       "      <td>0</td>\n",
       "      <td>0</td>\n",
       "      <td>0</td>\n",
       "    </tr>\n",
       "    <tr>\n",
       "      <th>698</th>\n",
       "      <td>2019-11-30</td>\n",
       "      <td>1</td>\n",
       "      <td>287.60</td>\n",
       "      <td>12</td>\n",
       "      <td>60.08</td>\n",
       "      <td>0</td>\n",
       "      <td>60.08</td>\n",
       "      <td>0.80</td>\n",
       "      <td>0</td>\n",
       "      <td>0</td>\n",
       "      <td>...</td>\n",
       "      <td>50.40</td>\n",
       "      <td>31.68</td>\n",
       "      <td>8.00</td>\n",
       "      <td>0.00</td>\n",
       "      <td>0.0</td>\n",
       "      <td>0.0</td>\n",
       "      <td>0</td>\n",
       "      <td>0</td>\n",
       "      <td>0</td>\n",
       "      <td>0</td>\n",
       "    </tr>\n",
       "  </tbody>\n",
       "</table>\n",
       "<p>5 rows × 32 columns</p>\n",
       "</div>"
      ],
      "text/plain": [
       "            년월일  호기  총량(kw)  평균(kw)  최대(kw)  최소(kw)  최대(시간별, kw)  최소(시간별, kw)  \\\n",
       "694  2019-11-26   1  427.92      18   76.08       0        76.08         0.40   \n",
       "695  2019-11-27   1   69.12       3   14.72       0        14.72         0.64   \n",
       "696  2019-11-28   1  187.52       8   41.12       0        41.12         0.56   \n",
       "697  2019-11-29   1  464.88      19   80.32       0        80.32         0.08   \n",
       "698  2019-11-30   1  287.60      12   60.08       0        60.08         0.80   \n",
       "\n",
       "     1  2  ...     15     16    17    18   19   20  21  22  23  24  \n",
       "694  0  0  ...  50.48  28.64  8.24  0.00  0.0  0.0   0   0   0   0  \n",
       "695  0  0  ...   6.40   4.24  0.64  0.00  0.0  0.0   0   0   0   0  \n",
       "696  0  0  ...  19.92  14.00  5.52  0.00  0.0  0.0   0   0   0   0  \n",
       "697  0  0  ...  54.88  34.40  9.04  0.08  0.0  0.0   0   0   0   0  \n",
       "698  0  0  ...  50.40  31.68  8.00  0.00  0.0  0.0   0   0   0   0  \n",
       "\n",
       "[5 rows x 32 columns]"
      ]
     },
     "execution_count": 69,
     "metadata": {},
     "output_type": "execute_result"
    }
   ],
   "source": [
    "import pandas as pd\n",
    "data = pd.read_csv('부산 태양광.csv', engine = 'python')\n",
    "data.tail(5)"
   ]
  },
  {
   "cell_type": "code",
   "execution_count": 70,
   "metadata": {
    "scrolled": true
   },
   "outputs": [
    {
     "data": {
      "text/plain": [
       "Index(['년월일', '호기', '총량(kw)', '평균(kw)', '최대(kw)', '최소(kw)', '최대(시간별, kw)',\n",
       "       '최소(시간별, kw)', '1', '2', '3', '4', '5', '6', '7', '8', '9', '10', '11',\n",
       "       '12', '13', '14', '15', '16', '17', '18', '19', '20', '21', '22', '23',\n",
       "       '24'],\n",
       "      dtype='object')"
      ]
     },
     "execution_count": 70,
     "metadata": {},
     "output_type": "execute_result"
    }
   ],
   "source": [
    "data.columns"
   ]
  },
  {
   "cell_type": "code",
   "execution_count": 71,
   "metadata": {
    "scrolled": true
   },
   "outputs": [
    {
     "data": {
      "text/plain": [
       "0      True\n",
       "1      True\n",
       "2      True\n",
       "3      True\n",
       "4      True\n",
       "       ... \n",
       "694    True\n",
       "695    True\n",
       "696    True\n",
       "697    True\n",
       "698    True\n",
       "Name: 호기, Length: 699, dtype: bool"
      ]
     },
     "execution_count": 71,
     "metadata": {},
     "output_type": "execute_result"
    }
   ],
   "source": [
    "data.loc[:, '호기'] == 1"
   ]
  },
  {
   "cell_type": "code",
   "execution_count": 72,
   "metadata": {
    "scrolled": false
   },
   "outputs": [],
   "source": [
    "data = data.drop(['호기'], axis = 1)"
   ]
  },
  {
   "cell_type": "code",
   "execution_count": 73,
   "metadata": {},
   "outputs": [
    {
     "data": {
      "text/html": [
       "<div>\n",
       "<style scoped>\n",
       "    .dataframe tbody tr th:only-of-type {\n",
       "        vertical-align: middle;\n",
       "    }\n",
       "\n",
       "    .dataframe tbody tr th {\n",
       "        vertical-align: top;\n",
       "    }\n",
       "\n",
       "    .dataframe thead th {\n",
       "        text-align: right;\n",
       "    }\n",
       "</style>\n",
       "<table border=\"1\" class=\"dataframe\">\n",
       "  <thead>\n",
       "    <tr style=\"text-align: right;\">\n",
       "      <th></th>\n",
       "      <th>년월일</th>\n",
       "      <th>총량(kw)</th>\n",
       "      <th>평균(kw)</th>\n",
       "      <th>최대(kw)</th>\n",
       "      <th>최소(kw)</th>\n",
       "      <th>최대(시간별, kw)</th>\n",
       "      <th>최소(시간별, kw)</th>\n",
       "    </tr>\n",
       "  </thead>\n",
       "  <tbody>\n",
       "    <tr>\n",
       "      <th>694</th>\n",
       "      <td>2019-11-26</td>\n",
       "      <td>427.92</td>\n",
       "      <td>18</td>\n",
       "      <td>76.08</td>\n",
       "      <td>0</td>\n",
       "      <td>76.08</td>\n",
       "      <td>0.40</td>\n",
       "    </tr>\n",
       "    <tr>\n",
       "      <th>695</th>\n",
       "      <td>2019-11-27</td>\n",
       "      <td>69.12</td>\n",
       "      <td>3</td>\n",
       "      <td>14.72</td>\n",
       "      <td>0</td>\n",
       "      <td>14.72</td>\n",
       "      <td>0.64</td>\n",
       "    </tr>\n",
       "    <tr>\n",
       "      <th>696</th>\n",
       "      <td>2019-11-28</td>\n",
       "      <td>187.52</td>\n",
       "      <td>8</td>\n",
       "      <td>41.12</td>\n",
       "      <td>0</td>\n",
       "      <td>41.12</td>\n",
       "      <td>0.56</td>\n",
       "    </tr>\n",
       "    <tr>\n",
       "      <th>697</th>\n",
       "      <td>2019-11-29</td>\n",
       "      <td>464.88</td>\n",
       "      <td>19</td>\n",
       "      <td>80.32</td>\n",
       "      <td>0</td>\n",
       "      <td>80.32</td>\n",
       "      <td>0.08</td>\n",
       "    </tr>\n",
       "    <tr>\n",
       "      <th>698</th>\n",
       "      <td>2019-11-30</td>\n",
       "      <td>287.60</td>\n",
       "      <td>12</td>\n",
       "      <td>60.08</td>\n",
       "      <td>0</td>\n",
       "      <td>60.08</td>\n",
       "      <td>0.80</td>\n",
       "    </tr>\n",
       "  </tbody>\n",
       "</table>\n",
       "</div>"
      ],
      "text/plain": [
       "            년월일  총량(kw)  평균(kw)  최대(kw)  최소(kw)  최대(시간별, kw)  최소(시간별, kw)\n",
       "694  2019-11-26  427.92      18   76.08       0        76.08         0.40\n",
       "695  2019-11-27   69.12       3   14.72       0        14.72         0.64\n",
       "696  2019-11-28  187.52       8   41.12       0        41.12         0.56\n",
       "697  2019-11-29  464.88      19   80.32       0        80.32         0.08\n",
       "698  2019-11-30  287.60      12   60.08       0        60.08         0.80"
      ]
     },
     "execution_count": 73,
     "metadata": {},
     "output_type": "execute_result"
    }
   ],
   "source": [
    "data = data.drop(data.iloc[:,7:], axis = 1)\n",
    "data.tail()"
   ]
  },
  {
   "cell_type": "code",
   "execution_count": 74,
   "metadata": {},
   "outputs": [],
   "source": [
    "import matplotlib.pyplot as plt"
   ]
  },
  {
   "cell_type": "code",
   "execution_count": 80,
   "metadata": {},
   "outputs": [
    {
     "data": {
      "text/plain": [
       "0        0.00\n",
       "1        0.00\n",
       "2        0.00\n",
       "3        0.00\n",
       "4        0.00\n",
       "        ...  \n",
       "694    427.92\n",
       "695     69.12\n",
       "696    187.52\n",
       "697    464.88\n",
       "698    287.60\n",
       "Name: 총량(kw), Length: 699, dtype: float64"
      ]
     },
     "execution_count": 80,
     "metadata": {},
     "output_type": "execute_result"
    }
   ],
   "source": [
    "data.loc[:,'총량(kw)']"
   ]
  },
  {
   "cell_type": "code",
   "execution_count": 81,
   "metadata": {},
   "outputs": [
    {
     "data": {
      "text/plain": [
       "[<matplotlib.lines.Line2D at 0x1c5169a4908>]"
      ]
     },
     "execution_count": 81,
     "metadata": {},
     "output_type": "execute_result"
    },
    {
     "data": {
      "image/png": "[encoded data removed]",
      "text/plain": [
       "<Figure size 432x288 with 1 Axes>"
      ]
     },
     "metadata": {
      "needs_background": "light"
     },
     "output_type": "display_data"
    }
   ],
   "source": [
    "#2018~ 월별 태양광 에너지 발전 총량\n",
    "x = data.년월일.unique()\n",
    "y = data.loc[:,'총량(kw)']\n",
    "ylabel('총량(kw)')\n",
    "xlabel('년월일')\n",
    "plt.plot(x,y)"
   ]
  }
 ],
 "metadata": {
  "kernelspec": {
   "display_name": "Python 3",
   "language": "python",
   "name": "python3"
  },
  "language_info": {
   "codemirror_mode": {
    "name": "ipython",
    "version": 3
   },
   "file_extension": ".py",
   "mimetype": "text/x-python",
   "name": "python",
   "nbconvert_exporter": "python",
   "pygments_lexer": "ipython3",
   "version": "3.7.6"
  }
 },
 "nbformat": 4,
 "nbformat_minor": 4
}
